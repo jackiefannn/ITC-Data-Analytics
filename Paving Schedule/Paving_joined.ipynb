{
 "cells": [
  {
   "cell_type": "code",
   "execution_count": 1,
   "metadata": {},
   "outputs": [],
   "source": [
    "######################\n",
    "# ITC 2020 DA \n",
    "# Tasks:\n",
    "# 1. Join data frame from csv and geojson"
   ]
  },
  {
   "cell_type": "code",
   "execution_count": 2,
   "metadata": {},
   "outputs": [],
   "source": [
    "import pandas as pd"
   ]
  },
  {
   "cell_type": "code",
   "execution_count": 10,
   "metadata": {},
   "outputs": [
    {
     "data": {
      "text/plain": [
       "(8118, 12)"
      ]
     },
     "execution_count": 10,
     "metadata": {},
     "output_type": "execute_result"
    }
   ],
   "source": [
    "paving_csv = pd.read_csv(\"paving_cleaned.csv\")\n",
    "paving_csv.shape"
   ]
  },
  {
   "cell_type": "code",
   "execution_count": 11,
   "metadata": {},
   "outputs": [
    {
     "data": {
      "text/plain": [
       "(7570, 13)"
      ]
     },
     "execution_count": 11,
     "metadata": {},
     "output_type": "execute_result"
    }
   ],
   "source": [
    "paving_geojson = pd.read_excel(\"pavingschedulegeojson.xlsx\")\n",
    "paving_geojson.shape"
   ]
  },
  {
   "cell_type": "code",
   "execution_count": 12,
   "metadata": {},
   "outputs": [],
   "source": [
    "# check difference in csv data but not in geojson\n",
    "def anti_join(A,B,x):\n",
    "  return A[~A[x].isin(B[x])]"
   ]
  },
  {
   "cell_type": "code",
   "execution_count": 13,
   "metadata": {},
   "outputs": [
    {
     "data": {
      "text/plain": [
       "112"
      ]
     },
     "execution_count": 13,
     "metadata": {},
     "output_type": "execute_result"
    }
   ],
   "source": [
    "len(anti_join(paving_csv,paving_geojson,\"street_id\"))\n",
    "\n",
    "# there are 112 records in csv not in geojson"
   ]
  },
  {
   "cell_type": "code",
   "execution_count": 14,
   "metadata": {},
   "outputs": [
    {
     "data": {
      "text/plain": [
       "0"
      ]
     },
     "execution_count": 14,
     "metadata": {},
     "output_type": "execute_result"
    }
   ],
   "source": [
    "len(anti_join(paving_geojson,paving_csv,\"street_id\"))"
   ]
  },
  {
   "cell_type": "code",
   "execution_count": 24,
   "metadata": {},
   "outputs": [
    {
     "data": {
      "text/plain": [
       "(10455, 24)"
      ]
     },
     "metadata": {},
     "output_type": "display_data"
    },
    {
     "data": {
      "text/html": [
       "<div>\n",
       "<style scoped>\n",
       "    .dataframe tbody tr th:only-of-type {\n",
       "        vertical-align: middle;\n",
       "    }\n",
       "\n",
       "    .dataframe tbody tr th {\n",
       "        vertical-align: top;\n",
       "    }\n",
       "\n",
       "    .dataframe thead th {\n",
       "        text-align: right;\n",
       "    }\n",
       "</style>\n",
       "<table border=\"1\" class=\"dataframe\">\n",
       "  <thead>\n",
       "    <tr style=\"text-align: right;\">\n",
       "      <th></th>\n",
       "      <th>Unnamed: 0_x</th>\n",
       "      <th>id_x</th>\n",
       "      <th>street_id</th>\n",
       "      <th>activity_x</th>\n",
       "      <th>task_description_x</th>\n",
       "      <th>status_x</th>\n",
       "      <th>street_x</th>\n",
       "      <th>start_year_x</th>\n",
       "      <th>stop_date_actual_x</th>\n",
       "      <th>route_ahead_x</th>\n",
       "      <th>...</th>\n",
       "      <th>status_y</th>\n",
       "      <th>activity_y</th>\n",
       "      <th>route_back_y</th>\n",
       "      <th>id_y</th>\n",
       "      <th>task_description_y</th>\n",
       "      <th>route_ahead_y</th>\n",
       "      <th>street_y</th>\n",
       "      <th>stop_date_actual_y</th>\n",
       "      <th>geometry</th>\n",
       "      <th>Length of Paved Road (meters)</th>\n",
       "    </tr>\n",
       "  </thead>\n",
       "  <tbody>\n",
       "    <tr>\n",
       "      <th>0</th>\n",
       "      <td>0</td>\n",
       "      <td>1924601586</td>\n",
       "      <td>17060</td>\n",
       "      <td>Base Repair</td>\n",
       "      <td>Paved as part of 2016 City paving program.</td>\n",
       "      <td>Completed</td>\n",
       "      <td>BALDWICK RD</td>\n",
       "      <td>2016</td>\n",
       "      <td>2016-10-31</td>\n",
       "      <td>NOBLESTOWN RD</td>\n",
       "      <td>...</td>\n",
       "      <td>Completed</td>\n",
       "      <td>Mechanical Patching</td>\n",
       "      <td>STEEN ST</td>\n",
       "      <td>1.924602e+09</td>\n",
       "      <td>Paved as part of 2016 City paving program.</td>\n",
       "      <td>NOBLESTOWN RD</td>\n",
       "      <td>BALDWICK RD</td>\n",
       "      <td>2016-10-31</td>\n",
       "      <td>LINESTRING (-80.06311387330331 40.427818635526...</td>\n",
       "      <td>569.609467</td>\n",
       "    </tr>\n",
       "    <tr>\n",
       "      <th>1</th>\n",
       "      <td>0</td>\n",
       "      <td>1924601586</td>\n",
       "      <td>17060</td>\n",
       "      <td>Base Repair</td>\n",
       "      <td>Paved as part of 2016 City paving program.</td>\n",
       "      <td>Completed</td>\n",
       "      <td>BALDWICK RD</td>\n",
       "      <td>2016</td>\n",
       "      <td>2016-10-31</td>\n",
       "      <td>NOBLESTOWN RD</td>\n",
       "      <td>...</td>\n",
       "      <td>Completed</td>\n",
       "      <td>Base Repair</td>\n",
       "      <td>STEEN ST</td>\n",
       "      <td>7.268760e+08</td>\n",
       "      <td>NaN</td>\n",
       "      <td>NOBLESTOWN RD</td>\n",
       "      <td>BALDWICK RD</td>\n",
       "      <td>2009-06-05</td>\n",
       "      <td>LINESTRING (-80.06311387330331 40.427818635526...</td>\n",
       "      <td>569.609467</td>\n",
       "    </tr>\n",
       "    <tr>\n",
       "      <th>2</th>\n",
       "      <td>0</td>\n",
       "      <td>1924601586</td>\n",
       "      <td>17060</td>\n",
       "      <td>Base Repair</td>\n",
       "      <td>Paved as part of 2016 City paving program.</td>\n",
       "      <td>Completed</td>\n",
       "      <td>BALDWICK RD</td>\n",
       "      <td>2016</td>\n",
       "      <td>2016-10-31</td>\n",
       "      <td>NOBLESTOWN RD</td>\n",
       "      <td>...</td>\n",
       "      <td>Completed</td>\n",
       "      <td>Super Pave</td>\n",
       "      <td>STEEN ST</td>\n",
       "      <td>1.225221e+09</td>\n",
       "      <td>NaN</td>\n",
       "      <td>NOBLESTOWN RD</td>\n",
       "      <td>BALDWICK RD</td>\n",
       "      <td>2009-06-05</td>\n",
       "      <td>LINESTRING (-80.06311387330331 40.427818635526...</td>\n",
       "      <td>569.609467</td>\n",
       "    </tr>\n",
       "  </tbody>\n",
       "</table>\n",
       "<p>3 rows × 24 columns</p>\n",
       "</div>"
      ],
      "text/plain": [
       "   Unnamed: 0_x        id_x  street_id   activity_x  \\\n",
       "0             0  1924601586      17060  Base Repair   \n",
       "1             0  1924601586      17060  Base Repair   \n",
       "2             0  1924601586      17060  Base Repair   \n",
       "\n",
       "                           task_description_x   status_x     street_x  \\\n",
       "0  Paved as part of 2016 City paving program.  Completed  BALDWICK RD   \n",
       "1  Paved as part of 2016 City paving program.  Completed  BALDWICK RD   \n",
       "2  Paved as part of 2016 City paving program.  Completed  BALDWICK RD   \n",
       "\n",
       "   start_year_x stop_date_actual_x  route_ahead_x  ...   status_y  \\\n",
       "0          2016         2016-10-31  NOBLESTOWN RD  ...  Completed   \n",
       "1          2016         2016-10-31  NOBLESTOWN RD  ...  Completed   \n",
       "2          2016         2016-10-31  NOBLESTOWN RD  ...  Completed   \n",
       "\n",
       "            activity_y  route_back_y          id_y  \\\n",
       "0  Mechanical Patching      STEEN ST  1.924602e+09   \n",
       "1          Base Repair      STEEN ST  7.268760e+08   \n",
       "2           Super Pave      STEEN ST  1.225221e+09   \n",
       "\n",
       "                           task_description_y  route_ahead_y     street_y  \\\n",
       "0  Paved as part of 2016 City paving program.  NOBLESTOWN RD  BALDWICK RD   \n",
       "1                                         NaN  NOBLESTOWN RD  BALDWICK RD   \n",
       "2                                         NaN  NOBLESTOWN RD  BALDWICK RD   \n",
       "\n",
       "   stop_date_actual_y                                           geometry  \\\n",
       "0          2016-10-31  LINESTRING (-80.06311387330331 40.427818635526...   \n",
       "1          2009-06-05  LINESTRING (-80.06311387330331 40.427818635526...   \n",
       "2          2009-06-05  LINESTRING (-80.06311387330331 40.427818635526...   \n",
       "\n",
       "  Length of Paved Road (meters)  \n",
       "0                    569.609467  \n",
       "1                    569.609467  \n",
       "2                    569.609467  \n",
       "\n",
       "[3 rows x 24 columns]"
      ]
     },
     "execution_count": 24,
     "metadata": {},
     "output_type": "execute_result"
    }
   ],
   "source": [
    "# merge on street_id\n",
    "\n",
    "paving_joined = paving_csv.merge(paving_geojson,\n",
    "                                 how=\"outer\",\n",
    "                                 on=\"street_id\")\n",
    "display(paving_joined.shape)\n",
    "paving_joined.head(3)\n"
   ]
  },
  {
   "cell_type": "code",
   "execution_count": 25,
   "metadata": {},
   "outputs": [
    {
     "data": {
      "text/plain": [
       "Index(['Unnamed: 0_x', 'id_x', 'street_id', 'activity_x', 'task_description_x',\n",
       "       'status_x', 'street_x', 'start_year_x', 'stop_date_actual_x',\n",
       "       'route_ahead_x', 'route_back_x', 'program_year', 'Unnamed: 0_y',\n",
       "       'start_year_y', 'status_y', 'activity_y', 'route_back_y', 'id_y',\n",
       "       'task_description_y', 'route_ahead_y', 'street_y', 'stop_date_actual_y',\n",
       "       'geometry', 'Length of Paved Road (meters)'],\n",
       "      dtype='object')"
      ]
     },
     "execution_count": 25,
     "metadata": {},
     "output_type": "execute_result"
    }
   ],
   "source": [
    "paving_joined.columns"
   ]
  },
  {
   "cell_type": "code",
   "execution_count": 26,
   "metadata": {},
   "outputs": [
    {
     "data": {
      "text/plain": [
       "Index(['id_x', 'street_id', 'activity_x', 'task_description_x', 'status_x',\n",
       "       'street_x', 'start_year_x', 'stop_date_actual_x', 'route_ahead_x',\n",
       "       'route_back_x', 'program_year', 'geometry',\n",
       "       'Length of Paved Road (meters)'],\n",
       "      dtype='object')"
      ]
     },
     "execution_count": 26,
     "metadata": {},
     "output_type": "execute_result"
    }
   ],
   "source": [
    "paving_joined.drop(columns=[\"Unnamed: 0_x\", \"Unnamed: 0_y\",'start_year_y', 'status_y', 'activity_y', 'route_back_y', 'id_y',\n",
    "       'task_description_y', 'route_ahead_y', 'street_y', 'stop_date_actual_y'], inplace=True)\n",
    "paving_joined.columns"
   ]
  },
  {
   "cell_type": "code",
   "execution_count": 27,
   "metadata": {},
   "outputs": [
    {
     "data": {
      "text/plain": [
       "Index(['id', 'street_id', 'activity', 'task_description', 'status', 'street',\n",
       "       'start_year', 'stop_date_actual', 'route_ahead', 'route_back',\n",
       "       'program_year', 'geometry', 'Length of Paved Road (meters)'],\n",
       "      dtype='object')"
      ]
     },
     "execution_count": 27,
     "metadata": {},
     "output_type": "execute_result"
    }
   ],
   "source": [
    "paving_joined.columns = paving_joined.columns.str.replace(\"_x\",\"\")\n",
    "paving_joined.columns"
   ]
  },
  {
   "cell_type": "code",
   "execution_count": 28,
   "metadata": {},
   "outputs": [],
   "source": [
    "paving_joined.to_csv(\"paving_joined.csv\")"
   ]
  },
  {
   "cell_type": "code",
   "execution_count": null,
   "metadata": {},
   "outputs": [],
   "source": []
  }
 ],
 "metadata": {
  "kernelspec": {
   "display_name": "Python 3",
   "language": "python",
   "name": "python3"
  },
  "language_info": {
   "codemirror_mode": {
    "name": "ipython",
    "version": 3
   },
   "file_extension": ".py",
   "mimetype": "text/x-python",
   "name": "python",
   "nbconvert_exporter": "python",
   "pygments_lexer": "ipython3",
   "version": "3.7.3"
  }
 },
 "nbformat": 4,
 "nbformat_minor": 2
}
