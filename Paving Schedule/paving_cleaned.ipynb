{
 "cells": [
  {
   "cell_type": "code",
   "execution_count": 1,
   "metadata": {},
   "outputs": [],
   "source": [
    "############\n",
    "# ITC 2020 DA \n",
    "# Tasks:\n",
    "# 1. Tranformation\n",
    "# 2. Exploratory Data Analysis"
   ]
  },
  {
   "cell_type": "code",
   "execution_count": 26,
   "metadata": {},
   "outputs": [],
   "source": [
    "import pandas as pd\n",
    "pd.set_option('display.precision',2)\n",
    "import numpy as np"
   ]
  },
  {
   "cell_type": "code",
   "execution_count": 3,
   "metadata": {},
   "outputs": [],
   "source": [
    "paving_df = pd.read_csv(\"pavingschedule.csv\")"
   ]
  },
  {
   "cell_type": "markdown",
   "metadata": {},
   "source": [
    "## 1. Transformation\n",
    "clean NA, change data type"
   ]
  },
  {
   "cell_type": "code",
   "execution_count": 4,
   "metadata": {},
   "outputs": [
    {
     "data": {
      "text/html": [
       "<div>\n",
       "<style scoped>\n",
       "    .dataframe tbody tr th:only-of-type {\n",
       "        vertical-align: middle;\n",
       "    }\n",
       "\n",
       "    .dataframe tbody tr th {\n",
       "        vertical-align: top;\n",
       "    }\n",
       "\n",
       "    .dataframe thead th {\n",
       "        text-align: right;\n",
       "    }\n",
       "</style>\n",
       "<table border=\"1\" class=\"dataframe\">\n",
       "  <thead>\n",
       "    <tr style=\"text-align: right;\">\n",
       "      <th></th>\n",
       "      <th>id</th>\n",
       "      <th>street_id</th>\n",
       "      <th>activity</th>\n",
       "      <th>task_description</th>\n",
       "      <th>status</th>\n",
       "      <th>street</th>\n",
       "      <th>start_year</th>\n",
       "      <th>stop_date_actual</th>\n",
       "      <th>route_ahead</th>\n",
       "      <th>route_back</th>\n",
       "    </tr>\n",
       "  </thead>\n",
       "  <tbody>\n",
       "    <tr>\n",
       "      <th>0</th>\n",
       "      <td>1924601586</td>\n",
       "      <td>17060</td>\n",
       "      <td>Mechanical Patching</td>\n",
       "      <td>Paved as part of 2016 City paving program.</td>\n",
       "      <td>Completed</td>\n",
       "      <td>BALDWICK RD</td>\n",
       "      <td>2016</td>\n",
       "      <td>2016-10-31</td>\n",
       "      <td>NOBLESTOWN RD</td>\n",
       "      <td>STEEN ST</td>\n",
       "    </tr>\n",
       "    <tr>\n",
       "      <th>1</th>\n",
       "      <td>1512981617</td>\n",
       "      <td>9881</td>\n",
       "      <td>Mechanical Patching</td>\n",
       "      <td>Paved as part of 2016 City paving program.</td>\n",
       "      <td>Completed</td>\n",
       "      <td>GLENBURY ST</td>\n",
       "      <td>2016</td>\n",
       "      <td>2016-10-31</td>\n",
       "      <td>KOHEN ST</td>\n",
       "      <td>SELDON ST</td>\n",
       "    </tr>\n",
       "    <tr>\n",
       "      <th>2</th>\n",
       "      <td>640675845</td>\n",
       "      <td>6563</td>\n",
       "      <td>Mechanical Patching</td>\n",
       "      <td>Paved as part of City 2016 paving program.</td>\n",
       "      <td>Completed</td>\n",
       "      <td>S BELLEFIELD AVE</td>\n",
       "      <td>2016</td>\n",
       "      <td>2016-10-01</td>\n",
       "      <td>FILMORE ST</td>\n",
       "      <td>FIFTH AVE</td>\n",
       "    </tr>\n",
       "    <tr>\n",
       "      <th>3</th>\n",
       "      <td>538119097</td>\n",
       "      <td>17748</td>\n",
       "      <td>Mechanical Patching</td>\n",
       "      <td>Paved as part of City 2016 paving program.</td>\n",
       "      <td>Completed</td>\n",
       "      <td>S BELLEFIELD AVE</td>\n",
       "      <td>2016</td>\n",
       "      <td>2016-10-01</td>\n",
       "      <td>FORBES AVE</td>\n",
       "      <td>FILMORE ST</td>\n",
       "    </tr>\n",
       "    <tr>\n",
       "      <th>4</th>\n",
       "      <td>726876041</td>\n",
       "      <td>17060</td>\n",
       "      <td>Base Repair</td>\n",
       "      <td>NaN</td>\n",
       "      <td>Completed</td>\n",
       "      <td>BALDWICK RD</td>\n",
       "      <td>2009</td>\n",
       "      <td>2009-06-05</td>\n",
       "      <td>NOBLESTOWN RD</td>\n",
       "      <td>STEEN ST</td>\n",
       "    </tr>\n",
       "  </tbody>\n",
       "</table>\n",
       "</div>"
      ],
      "text/plain": [
       "           id  street_id             activity  \\\n",
       "0  1924601586      17060  Mechanical Patching   \n",
       "1  1512981617       9881  Mechanical Patching   \n",
       "2   640675845       6563  Mechanical Patching   \n",
       "3   538119097      17748  Mechanical Patching   \n",
       "4   726876041      17060          Base Repair   \n",
       "\n",
       "                             task_description     status            street  \\\n",
       "0  Paved as part of 2016 City paving program.  Completed       BALDWICK RD   \n",
       "1  Paved as part of 2016 City paving program.  Completed       GLENBURY ST   \n",
       "2  Paved as part of City 2016 paving program.  Completed  S BELLEFIELD AVE   \n",
       "3  Paved as part of City 2016 paving program.  Completed  S BELLEFIELD AVE   \n",
       "4                                         NaN  Completed       BALDWICK RD   \n",
       "\n",
       "   start_year stop_date_actual    route_ahead  route_back  \n",
       "0        2016       2016-10-31  NOBLESTOWN RD    STEEN ST  \n",
       "1        2016       2016-10-31       KOHEN ST   SELDON ST  \n",
       "2        2016       2016-10-01     FILMORE ST   FIFTH AVE  \n",
       "3        2016       2016-10-01     FORBES AVE  FILMORE ST  \n",
       "4        2009       2009-06-05  NOBLESTOWN RD    STEEN ST  "
      ]
     },
     "execution_count": 4,
     "metadata": {},
     "output_type": "execute_result"
    }
   ],
   "source": [
    "paving_df.head()"
   ]
  },
  {
   "cell_type": "code",
   "execution_count": 5,
   "metadata": {},
   "outputs": [
    {
     "data": {
      "text/plain": [
       "(8118, 10)"
      ]
     },
     "metadata": {},
     "output_type": "display_data"
    },
    {
     "name": "stdout",
     "output_type": "stream",
     "text": [
      "<class 'pandas.core.frame.DataFrame'>\n",
      "RangeIndex: 8118 entries, 0 to 8117\n",
      "Data columns (total 10 columns):\n",
      "id                  8118 non-null int64\n",
      "street_id           8118 non-null int64\n",
      "activity            8118 non-null object\n",
      "task_description    3976 non-null object\n",
      "status              8118 non-null object\n",
      "street              8118 non-null object\n",
      "start_year          8118 non-null int64\n",
      "stop_date_actual    7675 non-null object\n",
      "route_ahead         8113 non-null object\n",
      "route_back          8113 non-null object\n",
      "dtypes: int64(3), object(7)\n",
      "memory usage: 634.3+ KB\n"
     ]
    },
    {
     "data": {
      "text/plain": [
       "None"
      ]
     },
     "metadata": {},
     "output_type": "display_data"
    }
   ],
   "source": [
    "# basic info about df\n",
    "display(paving_df.shape)\n",
    "display(paving_df.info())\n",
    "\n",
    "# No NA need be dropped"
   ]
  },
  {
   "cell_type": "code",
   "execution_count": 6,
   "metadata": {},
   "outputs": [
    {
     "data": {
      "text/plain": [
       "dtype('<M8[ns]')"
      ]
     },
     "execution_count": 6,
     "metadata": {},
     "output_type": "execute_result"
    }
   ],
   "source": [
    "# convert \"stop_data_actual\" to datatime format\n",
    "\n",
    "paving_df.stop_date_actual = pd.to_datetime(paving_df.stop_date_actual)\n",
    "paving_df[\"stop_date_actual\"].dtypes"
   ]
  },
  {
   "cell_type": "markdown",
   "metadata": {},
   "source": [
    "## 2. Exploratory Data Analysis"
   ]
  },
  {
   "cell_type": "code",
   "execution_count": null,
   "metadata": {},
   "outputs": [],
   "source": []
  },
  {
   "cell_type": "markdown",
   "metadata": {},
   "source": [
    "### 2.1 status"
   ]
  },
  {
   "cell_type": "code",
   "execution_count": 7,
   "metadata": {},
   "outputs": [
    {
     "data": {
      "text/plain": [
       "Completed    7631\n",
       "Planned       444\n",
       "Canceled       43\n",
       "Name: status, dtype: int64"
      ]
     },
     "execution_count": 7,
     "metadata": {},
     "output_type": "execute_result"
    }
   ],
   "source": [
    "paving_df[\"status\"].value_counts()"
   ]
  },
  {
   "cell_type": "code",
   "execution_count": 8,
   "metadata": {},
   "outputs": [
    {
     "data": {
      "text/html": [
       "<div>\n",
       "<style scoped>\n",
       "    .dataframe tbody tr th:only-of-type {\n",
       "        vertical-align: middle;\n",
       "    }\n",
       "\n",
       "    .dataframe tbody tr th {\n",
       "        vertical-align: top;\n",
       "    }\n",
       "\n",
       "    .dataframe thead th {\n",
       "        text-align: right;\n",
       "    }\n",
       "</style>\n",
       "<table border=\"1\" class=\"dataframe\">\n",
       "  <thead>\n",
       "    <tr style=\"text-align: right;\">\n",
       "      <th>start_year</th>\n",
       "      <th>2009</th>\n",
       "      <th>2010</th>\n",
       "      <th>2011</th>\n",
       "      <th>2012</th>\n",
       "      <th>2013</th>\n",
       "      <th>2014</th>\n",
       "      <th>2015</th>\n",
       "      <th>2016</th>\n",
       "      <th>2017</th>\n",
       "      <th>2018</th>\n",
       "      <th>2019</th>\n",
       "    </tr>\n",
       "    <tr>\n",
       "      <th>status</th>\n",
       "      <th></th>\n",
       "      <th></th>\n",
       "      <th></th>\n",
       "      <th></th>\n",
       "      <th></th>\n",
       "      <th></th>\n",
       "      <th></th>\n",
       "      <th></th>\n",
       "      <th></th>\n",
       "      <th></th>\n",
       "      <th></th>\n",
       "    </tr>\n",
       "  </thead>\n",
       "  <tbody>\n",
       "    <tr>\n",
       "      <th>Canceled</th>\n",
       "      <td>0</td>\n",
       "      <td>0</td>\n",
       "      <td>0</td>\n",
       "      <td>0</td>\n",
       "      <td>0</td>\n",
       "      <td>0</td>\n",
       "      <td>0</td>\n",
       "      <td>0</td>\n",
       "      <td>42</td>\n",
       "      <td>1</td>\n",
       "      <td>0</td>\n",
       "    </tr>\n",
       "    <tr>\n",
       "      <th>Completed</th>\n",
       "      <td>458</td>\n",
       "      <td>454</td>\n",
       "      <td>324</td>\n",
       "      <td>703</td>\n",
       "      <td>624</td>\n",
       "      <td>489</td>\n",
       "      <td>799</td>\n",
       "      <td>1279</td>\n",
       "      <td>881</td>\n",
       "      <td>846</td>\n",
       "      <td>774</td>\n",
       "    </tr>\n",
       "    <tr>\n",
       "      <th>Planned</th>\n",
       "      <td>0</td>\n",
       "      <td>0</td>\n",
       "      <td>0</td>\n",
       "      <td>0</td>\n",
       "      <td>0</td>\n",
       "      <td>0</td>\n",
       "      <td>0</td>\n",
       "      <td>0</td>\n",
       "      <td>11</td>\n",
       "      <td>268</td>\n",
       "      <td>165</td>\n",
       "    </tr>\n",
       "  </tbody>\n",
       "</table>\n",
       "</div>"
      ],
      "text/plain": [
       "start_year  2009  2010  2011  2012  2013  2014  2015  2016  2017  2018  2019\n",
       "status                                                                      \n",
       "Canceled       0     0     0     0     0     0     0     0    42     1     0\n",
       "Completed    458   454   324   703   624   489   799  1279   881   846   774\n",
       "Planned        0     0     0     0     0     0     0     0    11   268   165"
      ]
     },
     "execution_count": 8,
     "metadata": {},
     "output_type": "execute_result"
    }
   ],
   "source": [
    "paving_df.groupby([\"status\",\"start_year\"]).size().unstack(fill_value=0)"
   ]
  },
  {
   "cell_type": "code",
   "execution_count": 9,
   "metadata": {},
   "outputs": [
    {
     "data": {
      "text/plain": [
       "2016    1279\n",
       "2018    1115\n",
       "2019     939\n",
       "2017     934\n",
       "2015     799\n",
       "2012     703\n",
       "2013     624\n",
       "2014     489\n",
       "2009     458\n",
       "2010     454\n",
       "2011     324\n",
       "Name: start_year, dtype: int64"
      ]
     },
     "execution_count": 9,
     "metadata": {},
     "output_type": "execute_result"
    }
   ],
   "source": [
    "paving_df[\"start_year\"].value_counts()"
   ]
  },
  {
   "cell_type": "code",
   "execution_count": 10,
   "metadata": {},
   "outputs": [
    {
     "data": {
      "image/png": "[encoded data removed]",
      "text/plain": [
       "<Figure size 432x288 with 1 Axes>"
      ]
     },
     "metadata": {
      "needs_background": "light"
     },
     "output_type": "display_data"
    }
   ],
   "source": [
    "# paving project start \n",
    "paving_df[\"start_year\"].value_counts().plot.bar();\n",
    "# paving project end\n",
    "paving_df[\"stop_date_actual\"].dt.year.value_counts().plot.bar(color=\"green\");"
   ]
  },
  {
   "cell_type": "code",
   "execution_count": 11,
   "metadata": {
    "scrolled": true
   },
   "outputs": [
    {
     "data": {
      "text/html": [
       "<div>\n",
       "<style scoped>\n",
       "    .dataframe tbody tr th:only-of-type {\n",
       "        vertical-align: middle;\n",
       "    }\n",
       "\n",
       "    .dataframe tbody tr th {\n",
       "        vertical-align: top;\n",
       "    }\n",
       "\n",
       "    .dataframe thead th {\n",
       "        text-align: right;\n",
       "    }\n",
       "</style>\n",
       "<table border=\"1\" class=\"dataframe\">\n",
       "  <thead>\n",
       "    <tr style=\"text-align: right;\">\n",
       "      <th>stop_date_actual</th>\n",
       "      <th>2009.0</th>\n",
       "      <th>2010.0</th>\n",
       "      <th>2011.0</th>\n",
       "      <th>2012.0</th>\n",
       "      <th>2013.0</th>\n",
       "      <th>2014.0</th>\n",
       "      <th>2015.0</th>\n",
       "      <th>2016.0</th>\n",
       "      <th>2017.0</th>\n",
       "      <th>2018.0</th>\n",
       "      <th>2019.0</th>\n",
       "    </tr>\n",
       "    <tr>\n",
       "      <th>status</th>\n",
       "      <th></th>\n",
       "      <th></th>\n",
       "      <th></th>\n",
       "      <th></th>\n",
       "      <th></th>\n",
       "      <th></th>\n",
       "      <th></th>\n",
       "      <th></th>\n",
       "      <th></th>\n",
       "      <th></th>\n",
       "      <th></th>\n",
       "    </tr>\n",
       "  </thead>\n",
       "  <tbody>\n",
       "    <tr>\n",
       "      <th>Canceled</th>\n",
       "      <td>0</td>\n",
       "      <td>0</td>\n",
       "      <td>0</td>\n",
       "      <td>0</td>\n",
       "      <td>0</td>\n",
       "      <td>0</td>\n",
       "      <td>0</td>\n",
       "      <td>0</td>\n",
       "      <td>40</td>\n",
       "      <td>3</td>\n",
       "      <td>0</td>\n",
       "    </tr>\n",
       "    <tr>\n",
       "      <th>Completed</th>\n",
       "      <td>458</td>\n",
       "      <td>454</td>\n",
       "      <td>324</td>\n",
       "      <td>703</td>\n",
       "      <td>624</td>\n",
       "      <td>489</td>\n",
       "      <td>799</td>\n",
       "      <td>1278</td>\n",
       "      <td>875</td>\n",
       "      <td>715</td>\n",
       "      <td>911</td>\n",
       "    </tr>\n",
       "    <tr>\n",
       "      <th>Planned</th>\n",
       "      <td>0</td>\n",
       "      <td>0</td>\n",
       "      <td>0</td>\n",
       "      <td>0</td>\n",
       "      <td>0</td>\n",
       "      <td>0</td>\n",
       "      <td>0</td>\n",
       "      <td>0</td>\n",
       "      <td>0</td>\n",
       "      <td>2</td>\n",
       "      <td>0</td>\n",
       "    </tr>\n",
       "  </tbody>\n",
       "</table>\n",
       "</div>"
      ],
      "text/plain": [
       "stop_date_actual  2009.0  2010.0  2011.0  2012.0  2013.0  2014.0  2015.0  \\\n",
       "status                                                                     \n",
       "Canceled               0       0       0       0       0       0       0   \n",
       "Completed            458     454     324     703     624     489     799   \n",
       "Planned                0       0       0       0       0       0       0   \n",
       "\n",
       "stop_date_actual  2016.0  2017.0  2018.0  2019.0  \n",
       "status                                            \n",
       "Canceled               0      40       3       0  \n",
       "Completed           1278     875     715     911  \n",
       "Planned                0       0       2       0  "
      ]
     },
     "execution_count": 11,
     "metadata": {},
     "output_type": "execute_result"
    }
   ],
   "source": [
    "paving_df.groupby([\"status\",paving_df[\"stop_date_actual\"].dt.year]).size().unstack(fill_value=0)"
   ]
  },
  {
   "cell_type": "code",
   "execution_count": null,
   "metadata": {},
   "outputs": [],
   "source": []
  },
  {
   "cell_type": "markdown",
   "metadata": {},
   "source": [
    "<span style=\"color:blue\">\n",
    "    2016 has the most paving actions started and completed, <br>\n",
    "    2015-2019 have the most numbers of paving actions.<br>\n",
    "    2018, 2019 have the most paving actions planned.</span>"
   ]
  },
  {
   "cell_type": "markdown",
   "metadata": {},
   "source": [
    "## 2.2Activity"
   ]
  },
  {
   "cell_type": "code",
   "execution_count": 12,
   "metadata": {},
   "outputs": [
    {
     "data": {
      "text/plain": [
       "Mill and Overlay 3.5\" (Secondary/Tertiary)    2745\n",
       "Mill & Overlay 3 or More                      1974\n",
       "Mill and Overlay 4\" (Primary)                 1072\n",
       "Base Repair                                    674\n",
       "Super Pave                                     505\n",
       "AC Overlay 3 or more                           437\n",
       "Mill & Overlay - 2\"                            372\n",
       "Mechanical Patching                            162\n",
       "AC Overlay - 2\"                                 74\n",
       "AC Overlay 3.5\" (Secondary/Tertiary)            59\n",
       "AC Overlay 4\" (Primary)                         15\n",
       "AC - AC Overlay > 2\"                             9\n",
       "PCC - Slab Replacement - Level 1                 8\n",
       "Profile Milling                                  6\n",
       "Mill and Overlay (Superpave)                     3\n",
       "AC - AC Overlay < 2\"                             2\n",
       "AC Overlay (Superpave)                           1\n",
       "Name: activity, dtype: int64"
      ]
     },
     "execution_count": 12,
     "metadata": {},
     "output_type": "execute_result"
    }
   ],
   "source": [
    "paving_df.activity.value_counts()"
   ]
  },
  {
   "cell_type": "code",
   "execution_count": 13,
   "metadata": {
    "scrolled": true
   },
   "outputs": [
    {
     "data": {
      "text/plain": [
       "Mill and Overlay    6169\n",
       "Base Repair          836\n",
       "AC Overlay           596\n",
       "Superpave            517\n",
       "Name: activity, dtype: int64"
      ]
     },
     "execution_count": 13,
     "metadata": {},
     "output_type": "execute_result"
    }
   ],
   "source": [
    "paving_df.activity.replace({\"Mill & Overlay 3 or More\":\"Mill and Overlay\",\n",
    "                            \"Mill and Overlay 4\\\" (Primary)\":\"Mill and Overlay\",\n",
    "                            \"Mill and Overlay 3.5\\\" (Secondary/Tertiary)\":\"Mill and Overlay\" ,\n",
    "                            \"Mill & Overlay - 2\\\"\":\"Mill and Overlay\",\n",
    "                            \"Profile Milling\":\"Mill and Overlay\",\n",
    "                            \"AC Overlay 3 or more\": \"AC Overlay\",\n",
    "                            \"AC Overlay - 2\\\"\":\"AC Overlay\",\n",
    "                            \"AC Overlay 3.5\\\" (Secondary/Tertiary)\":\"AC Overlay\",\n",
    "                            \"AC Overlay 4\\\" (Primary)\": \"AC Overlay\",\n",
    "                            \"AC - AC Overlay > 2\\\"\":\"AC Overlay\",\n",
    "                            \"AC - AC Overlay < 2\\\"\":\"AC Overlay\",\n",
    "                            \"Mechanical Patching\": \"Base Repair\",\n",
    "                            \"Mill and Overlay (Superpave)\":\"Superpave\",\n",
    "                            \"Super Pave\":\"Superpave\",\n",
    "                            \"AC Overlay (Superpave)\":\"Superpave\",\n",
    "                            \"PCC - Slab Replacement - Level 1\": \"Superpave\"},inplace=True)\n",
    "paving_df.activity.value_counts()                           "
   ]
  },
  {
   "cell_type": "markdown",
   "metadata": {},
   "source": [
    "<span style=\"color:green\">\n",
    "Combined: <br>\n",
    "    All Mill and Overlay and AC Overlay with different inches<br>\n",
    "Merged: <br>\n",
    "    Profile Milling into Mill and Overlay <br>\n",
    "    AC Overlay (Superpave) into Superpave <br>\n",
    "    Mill and Overlay (Superpave) into Superpave\n",
    "</span>"
   ]
  },
  {
   "cell_type": "markdown",
   "metadata": {},
   "source": [
    "## 2.3 Activity description\n",
    "task_description"
   ]
  },
  {
   "cell_type": "code",
   "execution_count": 17,
   "metadata": {},
   "outputs": [],
   "source": [
    "# paving_df.task_description.unique()\n",
    "# need to be cleaned"
   ]
  },
  {
   "cell_type": "code",
   "execution_count": 19,
   "metadata": {},
   "outputs": [
    {
     "data": {
      "text/plain": [
       "2018    970\n",
       "2019    919\n",
       "2017    739\n",
       "2016    419\n",
       "2         5\n",
       "10        4\n",
       "Name: program_year, dtype: int64"
      ]
     },
     "execution_count": 19,
     "metadata": {},
     "output_type": "execute_result"
    }
   ],
   "source": [
    "# extract year from task_description\n",
    "\n",
    "paving_df[\"program_year\"] = paving_df[\"task_description\"].str.extract(\"(\\d+)\")\n",
    "paving_df.program_year.value_counts()"
   ]
  },
  {
   "cell_type": "code",
   "execution_count": null,
   "metadata": {},
   "outputs": [],
   "source": [
    "display(paving_df.loc[paving_df.program_year==\"2\"])"
   ]
  },
  {
   "cell_type": "code",
   "execution_count": 27,
   "metadata": {},
   "outputs": [
    {
     "data": {
      "text/plain": [
       "2018    970\n",
       "2019    919\n",
       "2017    739\n",
       "2016    424\n",
       "Name: program_year, dtype: int64"
      ]
     },
     "execution_count": 27,
     "metadata": {},
     "output_type": "execute_result"
    }
   ],
   "source": [
    "paving_df.replace({\"2\":\"2016\",\"10\":np.nan}, inplace=True)\n",
    "paving_df.program_year.value_counts()"
   ]
  },
  {
   "cell_type": "code",
   "execution_count": 28,
   "metadata": {},
   "outputs": [],
   "source": [
    "#paving_df.task_description.value_counts()"
   ]
  },
  {
   "cell_type": "code",
   "execution_count": 29,
   "metadata": {},
   "outputs": [],
   "source": [
    "paving_df.to_csv(\"paving_cleaned.csv\")"
   ]
  },
  {
   "cell_type": "code",
   "execution_count": null,
   "metadata": {},
   "outputs": [],
   "source": []
  }
 ],
 "metadata": {
  "kernelspec": {
   "display_name": "Python 3",
   "language": "python",
   "name": "python3"
  },
  "language_info": {
   "codemirror_mode": {
    "name": "ipython",
    "version": 3
   },
   "file_extension": ".py",
   "mimetype": "text/x-python",
   "name": "python",
   "nbconvert_exporter": "python",
   "pygments_lexer": "ipython3",
   "version": "3.7.3"
  }
 },
 "nbformat": 4,
 "nbformat_minor": 2
}
