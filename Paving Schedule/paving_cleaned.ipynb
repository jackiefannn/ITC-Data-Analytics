{
 "cells": [
  {
   "cell_type": "code",
   "execution_count": 36,
   "metadata": {},
   "outputs": [],
   "source": [
    "############\n",
    "# ITC 2020 DA \n",
    "# Tasks:\n",
    "# 1. Tranformation\n",
    "# 2. Exploratory Data Analysis"
   ]
  },
  {
   "cell_type": "code",
   "execution_count": 96,
   "metadata": {},
   "outputs": [],
   "source": [
    "import pandas as pd\n",
    "import seaborn as sns\n",
    "sns.set(style='whitegrid', palette=\"deep\", font_scale=1.1, rc={\"figure.figsize\": [12, 8]})\n",
    "import matplotlib.pyplot as plt\n",
    "pd.set_option('display.precision',2)\n",
    "import matplotlib.pyplot as plt"
   ]
  },
  {
   "cell_type": "code",
   "execution_count": 97,
   "metadata": {},
   "outputs": [],
   "source": [
    "paving_df = pd.read_csv(\"pavingschedule.csv\")"
   ]
  },
  {
   "cell_type": "markdown",
   "metadata": {},
   "source": [
    "## 1. Transformation\n",
    "clean NA, change data type"
   ]
  },
  {
   "cell_type": "code",
   "execution_count": 98,
   "metadata": {},
   "outputs": [
    {
     "data": {
      "text/html": [
       "<div>\n",
       "<style scoped>\n",
       "    .dataframe tbody tr th:only-of-type {\n",
       "        vertical-align: middle;\n",
       "    }\n",
       "\n",
       "    .dataframe tbody tr th {\n",
       "        vertical-align: top;\n",
       "    }\n",
       "\n",
       "    .dataframe thead th {\n",
       "        text-align: right;\n",
       "    }\n",
       "</style>\n",
       "<table border=\"1\" class=\"dataframe\">\n",
       "  <thead>\n",
       "    <tr style=\"text-align: right;\">\n",
       "      <th></th>\n",
       "      <th>id</th>\n",
       "      <th>street_id</th>\n",
       "      <th>activity</th>\n",
       "      <th>task_description</th>\n",
       "      <th>status</th>\n",
       "      <th>street</th>\n",
       "      <th>start_year</th>\n",
       "      <th>stop_date_actual</th>\n",
       "      <th>route_ahead</th>\n",
       "      <th>route_back</th>\n",
       "    </tr>\n",
       "  </thead>\n",
       "  <tbody>\n",
       "    <tr>\n",
       "      <th>0</th>\n",
       "      <td>1924601586</td>\n",
       "      <td>17060</td>\n",
       "      <td>Mechanical Patching</td>\n",
       "      <td>Paved as part of 2016 City paving program.</td>\n",
       "      <td>Completed</td>\n",
       "      <td>BALDWICK RD</td>\n",
       "      <td>2016</td>\n",
       "      <td>2016-10-31</td>\n",
       "      <td>NOBLESTOWN RD</td>\n",
       "      <td>STEEN ST</td>\n",
       "    </tr>\n",
       "    <tr>\n",
       "      <th>1</th>\n",
       "      <td>1512981617</td>\n",
       "      <td>9881</td>\n",
       "      <td>Mechanical Patching</td>\n",
       "      <td>Paved as part of 2016 City paving program.</td>\n",
       "      <td>Completed</td>\n",
       "      <td>GLENBURY ST</td>\n",
       "      <td>2016</td>\n",
       "      <td>2016-10-31</td>\n",
       "      <td>KOHEN ST</td>\n",
       "      <td>SELDON ST</td>\n",
       "    </tr>\n",
       "    <tr>\n",
       "      <th>2</th>\n",
       "      <td>640675845</td>\n",
       "      <td>6563</td>\n",
       "      <td>Mechanical Patching</td>\n",
       "      <td>Paved as part of City 2016 paving program.</td>\n",
       "      <td>Completed</td>\n",
       "      <td>S BELLEFIELD AVE</td>\n",
       "      <td>2016</td>\n",
       "      <td>2016-10-01</td>\n",
       "      <td>FILMORE ST</td>\n",
       "      <td>FIFTH AVE</td>\n",
       "    </tr>\n",
       "    <tr>\n",
       "      <th>3</th>\n",
       "      <td>538119097</td>\n",
       "      <td>17748</td>\n",
       "      <td>Mechanical Patching</td>\n",
       "      <td>Paved as part of City 2016 paving program.</td>\n",
       "      <td>Completed</td>\n",
       "      <td>S BELLEFIELD AVE</td>\n",
       "      <td>2016</td>\n",
       "      <td>2016-10-01</td>\n",
       "      <td>FORBES AVE</td>\n",
       "      <td>FILMORE ST</td>\n",
       "    </tr>\n",
       "    <tr>\n",
       "      <th>4</th>\n",
       "      <td>726876041</td>\n",
       "      <td>17060</td>\n",
       "      <td>Base Repair</td>\n",
       "      <td>NaN</td>\n",
       "      <td>Completed</td>\n",
       "      <td>BALDWICK RD</td>\n",
       "      <td>2009</td>\n",
       "      <td>2009-06-05</td>\n",
       "      <td>NOBLESTOWN RD</td>\n",
       "      <td>STEEN ST</td>\n",
       "    </tr>\n",
       "  </tbody>\n",
       "</table>\n",
       "</div>"
      ],
      "text/plain": [
       "           id  street_id             activity  \\\n",
       "0  1924601586      17060  Mechanical Patching   \n",
       "1  1512981617       9881  Mechanical Patching   \n",
       "2   640675845       6563  Mechanical Patching   \n",
       "3   538119097      17748  Mechanical Patching   \n",
       "4   726876041      17060          Base Repair   \n",
       "\n",
       "                             task_description     status            street  \\\n",
       "0  Paved as part of 2016 City paving program.  Completed       BALDWICK RD   \n",
       "1  Paved as part of 2016 City paving program.  Completed       GLENBURY ST   \n",
       "2  Paved as part of City 2016 paving program.  Completed  S BELLEFIELD AVE   \n",
       "3  Paved as part of City 2016 paving program.  Completed  S BELLEFIELD AVE   \n",
       "4                                         NaN  Completed       BALDWICK RD   \n",
       "\n",
       "   start_year stop_date_actual    route_ahead  route_back  \n",
       "0        2016       2016-10-31  NOBLESTOWN RD    STEEN ST  \n",
       "1        2016       2016-10-31       KOHEN ST   SELDON ST  \n",
       "2        2016       2016-10-01     FILMORE ST   FIFTH AVE  \n",
       "3        2016       2016-10-01     FORBES AVE  FILMORE ST  \n",
       "4        2009       2009-06-05  NOBLESTOWN RD    STEEN ST  "
      ]
     },
     "execution_count": 98,
     "metadata": {},
     "output_type": "execute_result"
    }
   ],
   "source": [
    "paving_df.head()"
   ]
  },
  {
   "cell_type": "code",
   "execution_count": 99,
   "metadata": {},
   "outputs": [
    {
     "data": {
      "text/plain": [
       "(8118, 10)"
      ]
     },
     "metadata": {},
     "output_type": "display_data"
    },
    {
     "name": "stdout",
     "output_type": "stream",
     "text": [
      "<class 'pandas.core.frame.DataFrame'>\n",
      "RangeIndex: 8118 entries, 0 to 8117\n",
      "Data columns (total 10 columns):\n",
      "id                  8118 non-null int64\n",
      "street_id           8118 non-null int64\n",
      "activity            8118 non-null object\n",
      "task_description    3976 non-null object\n",
      "status              8118 non-null object\n",
      "street              8118 non-null object\n",
      "start_year          8118 non-null int64\n",
      "stop_date_actual    7675 non-null object\n",
      "route_ahead         8113 non-null object\n",
      "route_back          8113 non-null object\n",
      "dtypes: int64(3), object(7)\n",
      "memory usage: 634.3+ KB\n"
     ]
    },
    {
     "data": {
      "text/plain": [
       "None"
      ]
     },
     "metadata": {},
     "output_type": "display_data"
    }
   ],
   "source": [
    "# basic info about df\n",
    "display(paving_df.shape)\n",
    "display(paving_df.info())\n",
    "\n",
    "# No NA need be dropped"
   ]
  },
  {
   "cell_type": "code",
   "execution_count": 100,
   "metadata": {},
   "outputs": [
    {
     "data": {
      "text/plain": [
       "dtype('<M8[ns]')"
      ]
     },
     "execution_count": 100,
     "metadata": {},
     "output_type": "execute_result"
    }
   ],
   "source": [
    "# convert \"stop_data_actual\" to datatime format\n",
    "\n",
    "paving_df.stop_date_actual = pd.to_datetime(paving_df.stop_date_actual)\n",
    "paving_df[\"stop_date_actual\"].dtypes"
   ]
  },
  {
   "cell_type": "markdown",
   "metadata": {},
   "source": [
    "## 2. Exploratory Data Analysis"
   ]
  },
  {
   "cell_type": "code",
   "execution_count": null,
   "metadata": {},
   "outputs": [],
   "source": []
  },
  {
   "cell_type": "markdown",
   "metadata": {},
   "source": [
    "### 2.1 status"
   ]
  },
  {
   "cell_type": "code",
   "execution_count": 101,
   "metadata": {},
   "outputs": [
    {
     "data": {
      "text/plain": [
       "Completed    7631\n",
       "Planned       444\n",
       "Canceled       43\n",
       "Name: status, dtype: int64"
      ]
     },
     "execution_count": 101,
     "metadata": {},
     "output_type": "execute_result"
    }
   ],
   "source": [
    "paving_df[\"status\"].value_counts()"
   ]
  },
  {
   "cell_type": "code",
   "execution_count": 102,
   "metadata": {},
   "outputs": [
    {
     "data": {
      "text/html": [
       "<div>\n",
       "<style scoped>\n",
       "    .dataframe tbody tr th:only-of-type {\n",
       "        vertical-align: middle;\n",
       "    }\n",
       "\n",
       "    .dataframe tbody tr th {\n",
       "        vertical-align: top;\n",
       "    }\n",
       "\n",
       "    .dataframe thead th {\n",
       "        text-align: right;\n",
       "    }\n",
       "</style>\n",
       "<table border=\"1\" class=\"dataframe\">\n",
       "  <thead>\n",
       "    <tr style=\"text-align: right;\">\n",
       "      <th>start_year</th>\n",
       "      <th>2009</th>\n",
       "      <th>2010</th>\n",
       "      <th>2011</th>\n",
       "      <th>2012</th>\n",
       "      <th>2013</th>\n",
       "      <th>2014</th>\n",
       "      <th>2015</th>\n",
       "      <th>2016</th>\n",
       "      <th>2017</th>\n",
       "      <th>2018</th>\n",
       "      <th>2019</th>\n",
       "    </tr>\n",
       "    <tr>\n",
       "      <th>status</th>\n",
       "      <th></th>\n",
       "      <th></th>\n",
       "      <th></th>\n",
       "      <th></th>\n",
       "      <th></th>\n",
       "      <th></th>\n",
       "      <th></th>\n",
       "      <th></th>\n",
       "      <th></th>\n",
       "      <th></th>\n",
       "      <th></th>\n",
       "    </tr>\n",
       "  </thead>\n",
       "  <tbody>\n",
       "    <tr>\n",
       "      <th>Canceled</th>\n",
       "      <td>0</td>\n",
       "      <td>0</td>\n",
       "      <td>0</td>\n",
       "      <td>0</td>\n",
       "      <td>0</td>\n",
       "      <td>0</td>\n",
       "      <td>0</td>\n",
       "      <td>0</td>\n",
       "      <td>42</td>\n",
       "      <td>1</td>\n",
       "      <td>0</td>\n",
       "    </tr>\n",
       "    <tr>\n",
       "      <th>Completed</th>\n",
       "      <td>458</td>\n",
       "      <td>454</td>\n",
       "      <td>324</td>\n",
       "      <td>703</td>\n",
       "      <td>624</td>\n",
       "      <td>489</td>\n",
       "      <td>799</td>\n",
       "      <td>1279</td>\n",
       "      <td>881</td>\n",
       "      <td>846</td>\n",
       "      <td>774</td>\n",
       "    </tr>\n",
       "    <tr>\n",
       "      <th>Planned</th>\n",
       "      <td>0</td>\n",
       "      <td>0</td>\n",
       "      <td>0</td>\n",
       "      <td>0</td>\n",
       "      <td>0</td>\n",
       "      <td>0</td>\n",
       "      <td>0</td>\n",
       "      <td>0</td>\n",
       "      <td>11</td>\n",
       "      <td>268</td>\n",
       "      <td>165</td>\n",
       "    </tr>\n",
       "  </tbody>\n",
       "</table>\n",
       "</div>"
      ],
      "text/plain": [
       "start_year  2009  2010  2011  2012  2013  2014  2015  2016  2017  2018  2019\n",
       "status                                                                      \n",
       "Canceled       0     0     0     0     0     0     0     0    42     1     0\n",
       "Completed    458   454   324   703   624   489   799  1279   881   846   774\n",
       "Planned        0     0     0     0     0     0     0     0    11   268   165"
      ]
     },
     "execution_count": 102,
     "metadata": {},
     "output_type": "execute_result"
    }
   ],
   "source": [
    "paving_df.groupby([\"status\",\"start_year\"]).size().unstack(fill_value=0)"
   ]
  },
  {
   "cell_type": "code",
   "execution_count": 103,
   "metadata": {},
   "outputs": [
    {
     "data": {
      "text/plain": [
       "2016    1279\n",
       "2018    1115\n",
       "2019     939\n",
       "2017     934\n",
       "2015     799\n",
       "2012     703\n",
       "2013     624\n",
       "2014     489\n",
       "2009     458\n",
       "2010     454\n",
       "2011     324\n",
       "Name: start_year, dtype: int64"
      ]
     },
     "execution_count": 103,
     "metadata": {},
     "output_type": "execute_result"
    }
   ],
   "source": [
    "paving_df[\"start_year\"].value_counts()"
   ]
  },
  {
   "cell_type": "code",
   "execution_count": 111,
   "metadata": {},
   "outputs": [
    {
     "data": {
      "image/png": "[encoded data removed]",
      "text/plain": [
       "<Figure size 864x576 with 1 Axes>"
      ]
     },
     "metadata": {},
     "output_type": "display_data"
    }
   ],
   "source": [
    "# paving project start \n",
    "paving_df[\"start_year\"].value_counts().plot.bar();\n",
    "# paving project end\n",
    "paving_df[\"stop_date_actual\"].dt.year.value_counts().plot.bar(color=\"green\");"
   ]
  },
  {
   "cell_type": "code",
   "execution_count": 107,
   "metadata": {
    "scrolled": true
   },
   "outputs": [
    {
     "data": {
      "text/html": [
       "<div>\n",
       "<style scoped>\n",
       "    .dataframe tbody tr th:only-of-type {\n",
       "        vertical-align: middle;\n",
       "    }\n",
       "\n",
       "    .dataframe tbody tr th {\n",
       "        vertical-align: top;\n",
       "    }\n",
       "\n",
       "    .dataframe thead th {\n",
       "        text-align: right;\n",
       "    }\n",
       "</style>\n",
       "<table border=\"1\" class=\"dataframe\">\n",
       "  <thead>\n",
       "    <tr style=\"text-align: right;\">\n",
       "      <th>stop_date_actual</th>\n",
       "      <th>2009.0</th>\n",
       "      <th>2010.0</th>\n",
       "      <th>2011.0</th>\n",
       "      <th>2012.0</th>\n",
       "      <th>2013.0</th>\n",
       "      <th>2014.0</th>\n",
       "      <th>2015.0</th>\n",
       "      <th>2016.0</th>\n",
       "      <th>2017.0</th>\n",
       "      <th>2018.0</th>\n",
       "      <th>2019.0</th>\n",
       "    </tr>\n",
       "    <tr>\n",
       "      <th>status</th>\n",
       "      <th></th>\n",
       "      <th></th>\n",
       "      <th></th>\n",
       "      <th></th>\n",
       "      <th></th>\n",
       "      <th></th>\n",
       "      <th></th>\n",
       "      <th></th>\n",
       "      <th></th>\n",
       "      <th></th>\n",
       "      <th></th>\n",
       "    </tr>\n",
       "  </thead>\n",
       "  <tbody>\n",
       "    <tr>\n",
       "      <th>Canceled</th>\n",
       "      <td>0</td>\n",
       "      <td>0</td>\n",
       "      <td>0</td>\n",
       "      <td>0</td>\n",
       "      <td>0</td>\n",
       "      <td>0</td>\n",
       "      <td>0</td>\n",
       "      <td>0</td>\n",
       "      <td>40</td>\n",
       "      <td>3</td>\n",
       "      <td>0</td>\n",
       "    </tr>\n",
       "    <tr>\n",
       "      <th>Completed</th>\n",
       "      <td>458</td>\n",
       "      <td>454</td>\n",
       "      <td>324</td>\n",
       "      <td>703</td>\n",
       "      <td>624</td>\n",
       "      <td>489</td>\n",
       "      <td>799</td>\n",
       "      <td>1278</td>\n",
       "      <td>875</td>\n",
       "      <td>715</td>\n",
       "      <td>911</td>\n",
       "    </tr>\n",
       "    <tr>\n",
       "      <th>Planned</th>\n",
       "      <td>0</td>\n",
       "      <td>0</td>\n",
       "      <td>0</td>\n",
       "      <td>0</td>\n",
       "      <td>0</td>\n",
       "      <td>0</td>\n",
       "      <td>0</td>\n",
       "      <td>0</td>\n",
       "      <td>0</td>\n",
       "      <td>2</td>\n",
       "      <td>0</td>\n",
       "    </tr>\n",
       "  </tbody>\n",
       "</table>\n",
       "</div>"
      ],
      "text/plain": [
       "stop_date_actual  2009.0  2010.0  2011.0  2012.0  2013.0  2014.0  2015.0  \\\n",
       "status                                                                     \n",
       "Canceled               0       0       0       0       0       0       0   \n",
       "Completed            458     454     324     703     624     489     799   \n",
       "Planned                0       0       0       0       0       0       0   \n",
       "\n",
       "stop_date_actual  2016.0  2017.0  2018.0  2019.0  \n",
       "status                                            \n",
       "Canceled               0      40       3       0  \n",
       "Completed           1278     875     715     911  \n",
       "Planned                0       0       2       0  "
      ]
     },
     "execution_count": 107,
     "metadata": {},
     "output_type": "execute_result"
    }
   ],
   "source": [
    "paving_df.groupby([\"status\",paving_df[\"stop_date_actual\"].dt.year]).size().unstack(fill_value=0)"
   ]
  },
  {
   "cell_type": "code",
   "execution_count": null,
   "metadata": {},
   "outputs": [],
   "source": []
  },
  {
   "cell_type": "markdown",
   "metadata": {},
   "source": [
    "<span style=\"color:blue\">\n",
    "    2016 has the most paving actions started and completed, <br>\n",
    "    2015-2019 have the most numbers of paving actions.<br>\n",
    "    2018, 2019 have the most paving actions planned.</span>"
   ]
  },
  {
   "cell_type": "markdown",
   "metadata": {},
   "source": [
    "## 2.2Activity"
   ]
  },
  {
   "cell_type": "code",
   "execution_count": 79,
   "metadata": {},
   "outputs": [
    {
     "data": {
      "text/plain": [
       "Mill and Overlay 3.5\" (Secondary/Tertiary)    2745\n",
       "Mill & Overlay 3 or More                      1974\n",
       "Mill and Overlay 4\" (Primary)                 1072\n",
       "Base Repair                                    674\n",
       "Super Pave                                     505\n",
       "AC Overlay 3 or more                           437\n",
       "Mill & Overlay - 2\"                            372\n",
       "Mechanical Patching                            162\n",
       "AC Overlay - 2\"                                 74\n",
       "AC Overlay 3.5\" (Secondary/Tertiary)            59\n",
       "AC Overlay 4\" (Primary)                         15\n",
       "AC - AC Overlay > 2\"                             9\n",
       "PCC - Slab Replacement - Level 1                 8\n",
       "Profile Milling                                  6\n",
       "Mill and Overlay (Superpave)                     3\n",
       "AC - AC Overlay < 2\"                             2\n",
       "AC Overlay (Superpave)                           1\n",
       "Name: activity, dtype: int64"
      ]
     },
     "execution_count": 79,
     "metadata": {},
     "output_type": "execute_result"
    }
   ],
   "source": [
    "paving_df.activity.value_counts()"
   ]
  },
  {
   "cell_type": "markdown",
   "metadata": {},
   "source": [
    "<span style=\"color:red\">\n",
    "    More research needed. What is Mill and overlay & AC overlay? Could any of these be combined? "
   ]
  },
  {
   "cell_type": "markdown",
   "metadata": {},
   "source": [
    "## 2.3 Activity description\n",
    "task_description"
   ]
  },
  {
   "cell_type": "code",
   "execution_count": 116,
   "metadata": {},
   "outputs": [
    {
     "data": {
      "text/plain": [
       "array(['Paved as part of 2016 City paving program.',\n",
       "       'Paved as part of City 2016 paving program.', nan,\n",
       "       'Work Completed by DPW Contractor', 'Joint replacement',\n",
       "       'Paved as part of 2016 City paving program',\n",
       "       'Paved as part of 2016 city paving program',\n",
       "       'Only 2\" wearing course.  Paved as part of 2016 City paving program.',\n",
       "       'Paved as part of the 2016 City paving program.',\n",
       "       'Paved by City as part of 2016 paving program.',\n",
       "       \"Paved as part of City's 2016 paving program.\",\n",
       "       'Paved by Peoples Gas as part of city coop program.',\n",
       "       'Paved as part of 2016 city paving program.',\n",
       "       'Paved by City paving contractor but reimbursed by PA American Water due to moratorium.',\n",
       "       'Paved by Peoples Gas as part of utility coop',\n",
       "       'Paved by Peoples Gas as part of utility coop.',\n",
       "       'Paved by Peoples Gas as part of paving coop.',\n",
       "       'Part of a cooperative paving agreement with Peoples Natural Gas.  Work to be completed by City paving contractor.',\n",
       "       'Part of 2017 paving program. Work completed by contractor.',\n",
       "       'Part of a cooperative paving agreement with Peoples Natural Gas.  Paving to be completed by Peoples.',\n",
       "       'Planned for 2017 paving season.  Work to be completed by City paving contractor.',\n",
       "       'Part of DPW Paving Program',\n",
       "       'Paved as part of utility coordination 2016/2017',\n",
       "       '2017 Paving Program', 'Part of 2017 DPW Paving Program',\n",
       "       'Part of a cooperative paving agreement with Peoples Natural Gas. Work to be completed by City paving contractor.',\n",
       "       'Paved as part of 2017 utility coordination with PWSA',\n",
       "       'Paved as part of 2017 DPW program',\n",
       "       'Part of 2017 DPW paving program',\n",
       "       'Paved as part of 2017 DPW paving program',\n",
       "       'Paved as part of 2017 DPW Paving Program',\n",
       "       'Part of 2017 DPW Program',\n",
       "       'Paved as part of 2017 utility coordination',\n",
       "       'Paved by DPW Contractor',\n",
       "       'Paved by Peoples Gas as part of city coop agreement.',\n",
       "       'utility paving', 'Utility Paving',\n",
       "       'paved by Allegheny County after a water line break.',\n",
       "       'paved by utility due to work in roadway',\n",
       "       'Paving completed by Oxford Development',\n",
       "       'Paving completed by Costa Contracting as part of new housing development',\n",
       "       'Paved by Costa Construction as part of a housing development',\n",
       "       'Work completed by Zottola for Comcast',\n",
       "       'Paving completed by Zottola for Comcast',\n",
       "       'paved by Folino for Comcast', 'Paved by Zottola for Comcast',\n",
       "       'Paved by Columbia Gas',\n",
       "       'Paved as part of 2016 DPW paving program',\n",
       "       'Paved at part of 2016 City paving program',\n",
       "       'Paved as part of 2017 utility coordination PNG',\n",
       "       'Paved as part of 2017 utility coordination PNG from Pheasant Way to Vinceton',\n",
       "       'Part of 2017 utility coordination PNG',\n",
       "       'Part of 2018 City Paving Program. Work to be completed by contractor.',\n",
       "       'Part of 2018 Paving Program Utility Coordination.',\n",
       "       'Project On Hold Until 2019 to Coordinate with Planned Utility Work.',\n",
       "       'Part of 2018 Paving Program. Work to be completed by Utility Company.',\n",
       "       'Part of 2018 paving program. Work to be completed by contractor.',\n",
       "       'Project On Hold Until 2019 to Coordinate with Planned Utility Work',\n",
       "       'Part of 2018 utility coordination.',\n",
       "       'Part of 2018 utility coordination',\n",
       "       'Part of 2018 City Paving Program. Work related to slope remediation.',\n",
       "       'Part of 2018 Paving Program',\n",
       "       'Paved as part of 2018 utility coordination.',\n",
       "       'Paved as part of 2018 paving program.',\n",
       "       'Part of 2018 paving program', 'Part of 2019 Paving Program',\n",
       "       'Part of 2019 Utility Coordination', 'Part of 2017 Paving Program',\n",
       "       'Paved as part of 10th St Bridge rehab.',\n",
       "       'Part of 2019 Utility Coordination PNG',\n",
       "       'Part of 2019 utility coordination PNG',\n",
       "       'Part of 2019 Paving Program.', 'Part of 2019 paving program',\n",
       "       'Street paved over as part of utility/development work',\n",
       "       'Replaced as part of utility/development work',\n",
       "       'Paved as part of 2019 paving program.',\n",
       "       'Paved as part of 2019 paving program',\n",
       "       'merchant st slab replacement',\n",
       "       'Paved as Part of 2019 Paving Program Overlay Only',\n",
       "       'Paved as part of 2019 Paving Program'], dtype=object)"
      ]
     },
     "execution_count": 116,
     "metadata": {},
     "output_type": "execute_result"
    }
   ],
   "source": [
    "paving_df.task_description.unique()\n",
    "# need to be cleaned"
   ]
  },
  {
   "cell_type": "code",
   "execution_count": null,
   "metadata": {},
   "outputs": [],
   "source": []
  },
  {
   "cell_type": "code",
   "execution_count": 112,
   "metadata": {},
   "outputs": [
    {
     "data": {
      "text/plain": [
       "Part of 2018 City Paving Program. Work to be completed by contractor.                                                751\n",
       "Paved by DPW Contractor                                                                                              546\n",
       "Part of 2017 paving program. Work completed by contractor.                                                           471\n",
       "Part of 2019 Paving Program                                                                                          467\n",
       "Paved as part of 2019 paving program                                                                                 304\n",
       "Paved as part of 2016 DPW paving program                                                                             255\n",
       "Part of 2018 Paving Program Utility Coordination.                                                                    186\n",
       "Work Completed by DPW Contractor                                                                                      94\n",
       "Utility Paving                                                                                                        94\n",
       "Part of a cooperative paving agreement with Peoples Natural Gas.  Work to be completed by City paving contractor.     93\n",
       "Project On Hold Until 2019 to Coordinate with Planned Utility Work                                                    85\n",
       "Part of 2017 DPW Paving Program                                                                                       84\n",
       "Part of 2017 utility coordination PNG                                                                                 75\n",
       "Paved as part of 2016 City paving program.                                                                            67\n",
       "Part of a cooperative paving agreement with Peoples Natural Gas.  Paving to be completed by Peoples.                  45\n",
       "Part of 2019 Utility Coordination                                                                                     40\n",
       "Paved as part of City 2016 paving program.                                                                            33\n",
       "Paved as part of the 2016 City paving program.                                                                        30\n",
       "Paved as part of 2017 utility coordination                                                                            29\n",
       "Paved as part of 2017 utility coordination PNG                                                                        27\n",
       "Part of 2017 DPW paving program                                                                                       21\n",
       "Part of 2018 Paving Program. Work to be completed by Utility Company.                                                 19\n",
       "Planned for 2017 paving season.  Work to be completed by City paving contractor.                                      17\n",
       "Paved as part of utility coordination 2016/2017                                                                       16\n",
       "Paved as part of 2017 DPW program                                                                                      8\n",
       "Paved as part of 2016 city paving program                                                                              8\n",
       "Part of 2019 Utility Coordination PNG                                                                                  6\n",
       "Part of 2019 paving program                                                                                            6\n",
       "Paved by City as part of 2016 paving program.                                                                          5\n",
       "Paved by Zottola for Comcast                                                                                           5\n",
       "                                                                                                                    ... \n",
       "Part of 2019 utility coordination PNG                                                                                  2\n",
       "Paved by Peoples Gas as part of utility coop.                                                                          1\n",
       "Paving completed by Costa Contracting as part of new housing development                                               1\n",
       "paved by Allegheny County after a water line break.                                                                    1\n",
       "Paved as Part of 2019 Paving Program Overlay Only                                                                      1\n",
       "paved by Folino for Comcast                                                                                            1\n",
       "Work completed by Zottola for Comcast                                                                                  1\n",
       "Paved as part of 2017 utility coordination PNG from Pheasant Way to Vinceton                                           1\n",
       "Paved by Peoples Gas as part of paving coop.                                                                           1\n",
       "Paved as part of 2017 DPW paving program                                                                               1\n",
       "Joint replacement                                                                                                      1\n",
       "Part of 2017 DPW Program                                                                                               1\n",
       "Paved as part of 2017 utility coordination with PWSA                                                                   1\n",
       "Paved as part of 2017 DPW Paving Program                                                                               1\n",
       "paved by utility due to work in roadway                                                                                1\n",
       "Part of a cooperative paving agreement with Peoples Natural Gas. Work to be completed by City paving contractor.       1\n",
       "Paved as part of City's 2016 paving program.                                                                           1\n",
       "Paved by Costa Construction as part of a housing development                                                           1\n",
       "Part of 2018 utility coordination.                                                                                     1\n",
       "Paved as part of 2016 city paving program.                                                                             1\n",
       "Part of 2017 Paving Program                                                                                            1\n",
       "2017 Paving Program                                                                                                    1\n",
       "Part of 2018 paving program. Work to be completed by contractor.                                                       1\n",
       "Paved as part of 2018 utility coordination.                                                                            1\n",
       "Part of 2018 paving program                                                                                            1\n",
       "Paved as part of 2018 paving program.                                                                                  1\n",
       "Paved as part of 2019 Paving Program                                                                                   1\n",
       "Paved at part of 2016 City paving program                                                                              1\n",
       "merchant st slab replacement                                                                                           1\n",
       "Street paved over as part of utility/development work                                                                  1\n",
       "Name: task_description, Length: 79, dtype: int64"
      ]
     },
     "execution_count": 112,
     "metadata": {},
     "output_type": "execute_result"
    }
   ],
   "source": [
    "paving_df.task_description.value_counts()"
   ]
  },
  {
   "cell_type": "code",
   "execution_count": null,
   "metadata": {},
   "outputs": [],
   "source": []
  }
 ],
 "metadata": {
  "kernelspec": {
   "display_name": "Python 3",
   "language": "python",
   "name": "python3"
  },
  "language_info": {
   "codemirror_mode": {
    "name": "ipython",
    "version": 3
   },
   "file_extension": ".py",
   "mimetype": "text/x-python",
   "name": "python",
   "nbconvert_exporter": "python",
   "pygments_lexer": "ipython3",
   "version": "3.7.3"
  }
 },
 "nbformat": 4,
 "nbformat_minor": 2
}
